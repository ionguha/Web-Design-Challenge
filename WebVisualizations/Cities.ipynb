{
 "cells": [
  {
   "cell_type": "markdown",
   "metadata": {},
   "source": [
    "![weather-banner](https://gordoncounty.org/wp-content/uploads/2014/01/weather-banner.jpg)"
   ]
  },
  {
   "cell_type": "markdown",
   "metadata": {},
   "source": [
    "# Converting Cities.csv to .html"
   ]
  },
  {
   "cell_type": "markdown",
   "metadata": {},
   "source": [
    "### Loading the required libraries & Reading .csv file into a dataframe"
   ]
  },
  {
   "cell_type": "code",
   "execution_count": 1,
   "metadata": {},
   "outputs": [],
   "source": [
    "# Loading the required libraries\n",
    "import pandas as pd\n",
    "import numpy as np\n",
    "# File to Load from the Resources folder \n",
    "file_to_load = \"Resources/Cities.csv\"\n",
    "# Read Purchasing File and store into Pandas data frame\n",
    "df_cities = pd.read_csv(file_to_load)"
   ]
  },
  {
   "cell_type": "markdown",
   "metadata": {},
   "source": [
    "## Let's explore the dataframe"
   ]
  },
  {
   "cell_type": "code",
   "execution_count": 2,
   "metadata": {},
   "outputs": [
    {
     "data": {
      "text/html": [
       "<div>\n",
       "<style scoped>\n",
       "    .dataframe tbody tr th:only-of-type {\n",
       "        vertical-align: middle;\n",
       "    }\n",
       "\n",
       "    .dataframe tbody tr th {\n",
       "        vertical-align: top;\n",
       "    }\n",
       "\n",
       "    .dataframe thead th {\n",
       "        text-align: right;\n",
       "    }\n",
       "</style>\n",
       "<table border=\"1\" class=\"dataframe\">\n",
       "  <thead>\n",
       "    <tr style=\"text-align: right;\">\n",
       "      <th></th>\n",
       "      <th>City</th>\n",
       "      <th>Country</th>\n",
       "      <th>Date</th>\n",
       "      <th>Latitude</th>\n",
       "      <th>Longitude</th>\n",
       "      <th>Humidity</th>\n",
       "      <th>Pressure</th>\n",
       "      <th>Max_Temp</th>\n",
       "      <th>Cloudiness</th>\n",
       "      <th>Wind_Speed</th>\n",
       "    </tr>\n",
       "  </thead>\n",
       "  <tbody>\n",
       "    <tr>\n",
       "      <th>0</th>\n",
       "      <td>Saint Paul Harbor</td>\n",
       "      <td>US</td>\n",
       "      <td>2020-07-22 22:19:13</td>\n",
       "      <td>57.79</td>\n",
       "      <td>-152.41</td>\n",
       "      <td>45</td>\n",
       "      <td>1014</td>\n",
       "      <td>66.20</td>\n",
       "      <td>20</td>\n",
       "      <td>8.20</td>\n",
       "    </tr>\n",
       "    <tr>\n",
       "      <th>1</th>\n",
       "      <td>Busselton</td>\n",
       "      <td>AU</td>\n",
       "      <td>2020-07-22 22:19:28</td>\n",
       "      <td>-33.65</td>\n",
       "      <td>115.33</td>\n",
       "      <td>52</td>\n",
       "      <td>1009</td>\n",
       "      <td>57.00</td>\n",
       "      <td>37</td>\n",
       "      <td>9.34</td>\n",
       "    </tr>\n",
       "    <tr>\n",
       "      <th>2</th>\n",
       "      <td>Mataura</td>\n",
       "      <td>NZ</td>\n",
       "      <td>2020-07-22 22:21:38</td>\n",
       "      <td>-46.19</td>\n",
       "      <td>168.86</td>\n",
       "      <td>83</td>\n",
       "      <td>1011</td>\n",
       "      <td>39.00</td>\n",
       "      <td>95</td>\n",
       "      <td>1.34</td>\n",
       "    </tr>\n",
       "    <tr>\n",
       "      <th>3</th>\n",
       "      <td>East London</td>\n",
       "      <td>ZA</td>\n",
       "      <td>2020-07-22 22:17:41</td>\n",
       "      <td>-33.02</td>\n",
       "      <td>27.91</td>\n",
       "      <td>41</td>\n",
       "      <td>1024</td>\n",
       "      <td>63.61</td>\n",
       "      <td>0</td>\n",
       "      <td>2.81</td>\n",
       "    </tr>\n",
       "    <tr>\n",
       "      <th>4</th>\n",
       "      <td>Hazorasp</td>\n",
       "      <td>UZ</td>\n",
       "      <td>2020-07-22 22:24:51</td>\n",
       "      <td>41.32</td>\n",
       "      <td>61.07</td>\n",
       "      <td>54</td>\n",
       "      <td>1003</td>\n",
       "      <td>78.80</td>\n",
       "      <td>40</td>\n",
       "      <td>2.10</td>\n",
       "    </tr>\n",
       "  </tbody>\n",
       "</table>\n",
       "</div>"
      ],
      "text/plain": [
       "                City Country                 Date  Latitude  Longitude  \\\n",
       "0  Saint Paul Harbor      US  2020-07-22 22:19:13     57.79    -152.41   \n",
       "1          Busselton      AU  2020-07-22 22:19:28    -33.65     115.33   \n",
       "2            Mataura      NZ  2020-07-22 22:21:38    -46.19     168.86   \n",
       "3        East London      ZA  2020-07-22 22:17:41    -33.02      27.91   \n",
       "4           Hazorasp      UZ  2020-07-22 22:24:51     41.32      61.07   \n",
       "\n",
       "   Humidity  Pressure  Max_Temp  Cloudiness  Wind_Speed  \n",
       "0        45      1014     66.20          20        8.20  \n",
       "1        52      1009     57.00          37        9.34  \n",
       "2        83      1011     39.00          95        1.34  \n",
       "3        41      1024     63.61           0        2.81  \n",
       "4        54      1003     78.80          40        2.10  "
      ]
     },
     "execution_count": 2,
     "metadata": {},
     "output_type": "execute_result"
    }
   ],
   "source": [
    "# Show the first 5 rows of the dataframe\n",
    "df_cities.head()"
   ]
  },
  {
   "cell_type": "code",
   "execution_count": 3,
   "metadata": {},
   "outputs": [
    {
     "data": {
      "text/plain": [
       "(580, 10)"
      ]
     },
     "execution_count": 3,
     "metadata": {},
     "output_type": "execute_result"
    }
   ],
   "source": [
    "# Number of rows and number of columns in this dataframe\n",
    "df_cities.shape"
   ]
  },
  {
   "cell_type": "markdown",
   "metadata": {},
   "source": [
    "### The dataframe has 580 rows and 10 columns"
   ]
  },
  {
   "cell_type": "code",
   "execution_count": 4,
   "metadata": {},
   "outputs": [
    {
     "data": {
      "text/plain": [
       "array(['City', 'Country', 'Date', 'Latitude', 'Longitude', 'Humidity',\n",
       "       'Pressure', 'Max_Temp', 'Cloudiness', 'Wind_Speed'], dtype=object)"
      ]
     },
     "execution_count": 4,
     "metadata": {},
     "output_type": "execute_result"
    }
   ],
   "source": [
    "# Let's get the list of column headers\n",
    "df_cities.columns.values"
   ]
  },
  {
   "cell_type": "markdown",
   "metadata": {},
   "source": [
    "## Converting the dataframe to html table"
   ]
  },
  {
   "cell_type": "code",
   "execution_count": 10,
   "metadata": {},
   "outputs": [],
   "source": [
    "# Create html table\n",
    "html_table = df_cities.to_html(\"Cities.html\")"
   ]
  }
 ],
 "metadata": {
  "anaconda-cloud": {},
  "kernel_info": {
   "name": "python3"
  },
  "kernelspec": {
   "display_name": "Python 3",
   "language": "python",
   "name": "python3"
  },
  "language_info": {
   "codemirror_mode": {
    "name": "ipython",
    "version": 3
   },
   "file_extension": ".py",
   "mimetype": "text/x-python",
   "name": "python",
   "nbconvert_exporter": "python",
   "pygments_lexer": "ipython3",
   "version": "3.7.6"
  },
  "latex_envs": {
   "LaTeX_envs_menu_present": true,
   "autoclose": false,
   "autocomplete": true,
   "bibliofile": "biblio.bib",
   "cite_by": "apalike",
   "current_citInitial": 1,
   "eqLabelWithNumbers": true,
   "eqNumInitial": 1,
   "hotkeys": {
    "equation": "Ctrl-E",
    "itemize": "Ctrl-I"
   },
   "labels_anchors": false,
   "latex_user_defs": false,
   "report_style_numbering": false,
   "user_envs_cfg": false
  },
  "nteract": {
   "version": "0.2.0"
  }
 },
 "nbformat": 4,
 "nbformat_minor": 2
}
